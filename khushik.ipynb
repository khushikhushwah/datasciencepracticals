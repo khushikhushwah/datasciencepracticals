{
 "cells": [
  {
   "cell_type": "code",
   "execution_count": 1,
   "id": "119f520c-04e9-42fc-9df6-d44e85bd6685",
   "metadata": {},
   "outputs": [],
   "source": [
    "import numpy as np\n"
   ]
  },
  {
   "cell_type": "markdown",
   "id": "5bbe0b4f-fe2f-4c24-963d-9eacfe904ed2",
   "metadata": {},
   "source": [
    "NUMPY EXERCISE 1\n"
   ]
  },
  {
   "cell_type": "code",
   "execution_count": 9,
   "id": "019ce3ce-323b-4b6c-bc8a-b69a1cc0e118",
   "metadata": {},
   "outputs": [],
   "source": [
    "a=np.zeros(10)\n"
   ]
  },
  {
   "cell_type": "code",
   "execution_count": 11,
   "id": "9166dde3-b5b6-4b17-bd22-545afbd2e5e3",
   "metadata": {},
   "outputs": [
    {
     "data": {
      "text/plain": [
       "array([0., 0., 0., 0., 0., 0., 0., 0., 0., 0.])"
      ]
     },
     "execution_count": 11,
     "metadata": {},
     "output_type": "execute_result"
    }
   ],
   "source": [
    "a"
   ]
  },
  {
   "cell_type": "code",
   "execution_count": 13,
   "id": "01bb5d8c-007f-42ec-8644-cf8a8f3c1316",
   "metadata": {},
   "outputs": [],
   "source": [
    "a1=np.ones(10)"
   ]
  },
  {
   "cell_type": "code",
   "execution_count": 15,
   "id": "8a948811-afd7-4830-b670-973ca0541863",
   "metadata": {},
   "outputs": [
    {
     "data": {
      "text/plain": [
       "array([1., 1., 1., 1., 1., 1., 1., 1., 1., 1.])"
      ]
     },
     "execution_count": 15,
     "metadata": {},
     "output_type": "execute_result"
    }
   ],
   "source": [
    "a1"
   ]
  },
  {
   "cell_type": "code",
   "execution_count": 17,
   "id": "3a117e0b-946d-4cc9-9f8b-ff1a41141b76",
   "metadata": {},
   "outputs": [],
   "source": [
    "a2=np.arange(10,50)"
   ]
  },
  {
   "cell_type": "code",
   "execution_count": 19,
   "id": "a0401009-2d7d-48b0-a023-e41e558e337f",
   "metadata": {},
   "outputs": [
    {
     "data": {
      "text/plain": [
       "array([10, 11, 12, 13, 14, 15, 16, 17, 18, 19, 20, 21, 22, 23, 24, 25, 26,\n",
       "       27, 28, 29, 30, 31, 32, 33, 34, 35, 36, 37, 38, 39, 40, 41, 42, 43,\n",
       "       44, 45, 46, 47, 48, 49])"
      ]
     },
     "execution_count": 19,
     "metadata": {},
     "output_type": "execute_result"
    }
   ],
   "source": [
    "a2"
   ]
  },
  {
   "cell_type": "code",
   "execution_count": 21,
   "id": "b71d8bb8-4c6f-45cd-9abd-2701e0a65d4e",
   "metadata": {},
   "outputs": [],
   "source": [
    "a3=np.arange(10,51,2)"
   ]
  },
  {
   "cell_type": "code",
   "execution_count": 23,
   "id": "a9c8a9c9-9679-409d-9683-c754eb6cbef8",
   "metadata": {},
   "outputs": [
    {
     "data": {
      "text/plain": [
       "array([10, 12, 14, 16, 18, 20, 22, 24, 26, 28, 30, 32, 34, 36, 38, 40, 42,\n",
       "       44, 46, 48, 50])"
      ]
     },
     "execution_count": 23,
     "metadata": {},
     "output_type": "execute_result"
    }
   ],
   "source": [
    "a3"
   ]
  },
  {
   "cell_type": "code",
   "execution_count": 25,
   "id": "ef24af3e-1b23-4822-925e-02fab22ec0a5",
   "metadata": {},
   "outputs": [],
   "source": [
    "a4=np.arange(0,9).reshape(3,3)"
   ]
  },
  {
   "cell_type": "code",
   "execution_count": 27,
   "id": "0cb730a7-d716-4890-827d-458f0c521be1",
   "metadata": {},
   "outputs": [
    {
     "data": {
      "text/plain": [
       "array([[0, 1, 2],\n",
       "       [3, 4, 5],\n",
       "       [6, 7, 8]])"
      ]
     },
     "execution_count": 27,
     "metadata": {},
     "output_type": "execute_result"
    }
   ],
   "source": [
    "a4"
   ]
  },
  {
   "cell_type": "code",
   "execution_count": 29,
   "id": "51ec7613-c853-4154-86eb-3f4250e4ae50",
   "metadata": {},
   "outputs": [],
   "source": [
    "a5=np.identity(3)"
   ]
  },
  {
   "cell_type": "code",
   "execution_count": 31,
   "id": "aa6b6702-4b99-4de0-854e-14236f365ea1",
   "metadata": {},
   "outputs": [
    {
     "data": {
      "text/plain": [
       "array([[1., 0., 0.],\n",
       "       [0., 1., 0.],\n",
       "       [0., 0., 1.]])"
      ]
     },
     "execution_count": 31,
     "metadata": {},
     "output_type": "execute_result"
    }
   ],
   "source": [
    "a5"
   ]
  },
  {
   "cell_type": "code",
   "execution_count": 43,
   "id": "333c6547-e715-4eae-9913-92e7cb90842f",
   "metadata": {},
   "outputs": [],
   "source": [
    "a6=np.random.normal(0,1,1)"
   ]
  },
  {
   "cell_type": "code",
   "execution_count": 45,
   "id": "323a4f73-94c1-48ea-be79-62cddf33acbc",
   "metadata": {},
   "outputs": [
    {
     "data": {
      "text/plain": [
       "array([-0.03788525])"
      ]
     },
     "execution_count": 45,
     "metadata": {},
     "output_type": "execute_result"
    }
   ],
   "source": [
    "a6"
   ]
  },
  {
   "cell_type": "code",
   "execution_count": 57,
   "id": "598a0227-79f2-410d-a3e5-00a8254e6ae4",
   "metadata": {},
   "outputs": [],
   "source": [
    "a7=np.random.normal(0,1,25)"
   ]
  },
  {
   "cell_type": "code",
   "execution_count": 59,
   "id": "beb3bb13-43e6-4799-a0a7-a2aa45bcb4f0",
   "metadata": {},
   "outputs": [
    {
     "data": {
      "text/plain": [
       "array([-0.63035988,  1.96678258, -0.50244162, -1.13821825, -0.67231232,\n",
       "       -2.09972775,  0.15063936,  0.61994543, -0.67974056, -1.09751878,\n",
       "       -0.06531923, -0.80629351, -0.5860352 , -1.81453229, -0.45578944,\n",
       "       -0.98487031, -0.91830963,  0.16843312,  2.21679323,  0.81334546,\n",
       "        0.19216492, -0.42592418,  0.57321201, -1.08749906,  0.10593819])"
      ]
     },
     "execution_count": 59,
     "metadata": {},
     "output_type": "execute_result"
    }
   ],
   "source": [
    "a7"
   ]
  },
  {
   "cell_type": "code",
   "execution_count": 61,
   "id": "7c436b68-da9f-40a0-9dc6-ed93e342ceea",
   "metadata": {},
   "outputs": [],
   "source": [
    "a8=np.linspace(0.01,1,100).reshape(10,10)"
   ]
  },
  {
   "cell_type": "code",
   "execution_count": 63,
   "id": "28ad4b9d-83aa-4d6f-81ca-2c4f6b7ff482",
   "metadata": {},
   "outputs": [
    {
     "data": {
      "text/plain": [
       "array([[0.01, 0.02, 0.03, 0.04, 0.05, 0.06, 0.07, 0.08, 0.09, 0.1 ],\n",
       "       [0.11, 0.12, 0.13, 0.14, 0.15, 0.16, 0.17, 0.18, 0.19, 0.2 ],\n",
       "       [0.21, 0.22, 0.23, 0.24, 0.25, 0.26, 0.27, 0.28, 0.29, 0.3 ],\n",
       "       [0.31, 0.32, 0.33, 0.34, 0.35, 0.36, 0.37, 0.38, 0.39, 0.4 ],\n",
       "       [0.41, 0.42, 0.43, 0.44, 0.45, 0.46, 0.47, 0.48, 0.49, 0.5 ],\n",
       "       [0.51, 0.52, 0.53, 0.54, 0.55, 0.56, 0.57, 0.58, 0.59, 0.6 ],\n",
       "       [0.61, 0.62, 0.63, 0.64, 0.65, 0.66, 0.67, 0.68, 0.69, 0.7 ],\n",
       "       [0.71, 0.72, 0.73, 0.74, 0.75, 0.76, 0.77, 0.78, 0.79, 0.8 ],\n",
       "       [0.81, 0.82, 0.83, 0.84, 0.85, 0.86, 0.87, 0.88, 0.89, 0.9 ],\n",
       "       [0.91, 0.92, 0.93, 0.94, 0.95, 0.96, 0.97, 0.98, 0.99, 1.  ]])"
      ]
     },
     "execution_count": 63,
     "metadata": {},
     "output_type": "execute_result"
    }
   ],
   "source": [
    "a8"
   ]
  },
  {
   "cell_type": "code",
   "execution_count": 65,
   "id": "58b71689-2887-47cf-91a9-851107b06f4c",
   "metadata": {},
   "outputs": [],
   "source": [
    "a9=np.linspace(0,1,20)"
   ]
  },
  {
   "cell_type": "code",
   "execution_count": 67,
   "id": "b2d11eb3-23f7-483d-b117-7bec852ede19",
   "metadata": {},
   "outputs": [
    {
     "data": {
      "text/plain": [
       "array([0.        , 0.05263158, 0.10526316, 0.15789474, 0.21052632,\n",
       "       0.26315789, 0.31578947, 0.36842105, 0.42105263, 0.47368421,\n",
       "       0.52631579, 0.57894737, 0.63157895, 0.68421053, 0.73684211,\n",
       "       0.78947368, 0.84210526, 0.89473684, 0.94736842, 1.        ])"
      ]
     },
     "execution_count": 67,
     "metadata": {},
     "output_type": "execute_result"
    }
   ],
   "source": [
    "a9"
   ]
  },
  {
   "cell_type": "code",
   "execution_count": 69,
   "id": "3195f406-9477-43f6-abf8-062e8c0738a8",
   "metadata": {},
   "outputs": [],
   "source": [
    "a10=np.arange(1,26).reshape(5,5)"
   ]
  },
  {
   "cell_type": "code",
   "execution_count": 71,
   "id": "c771ff49-a1d7-4ee3-bd31-d9f4d7fb1b48",
   "metadata": {},
   "outputs": [
    {
     "data": {
      "text/plain": [
       "array([[ 1,  2,  3,  4,  5],\n",
       "       [ 6,  7,  8,  9, 10],\n",
       "       [11, 12, 13, 14, 15],\n",
       "       [16, 17, 18, 19, 20],\n",
       "       [21, 22, 23, 24, 25]])"
      ]
     },
     "execution_count": 71,
     "metadata": {},
     "output_type": "execute_result"
    }
   ],
   "source": [
    "a10"
   ]
  },
  {
   "cell_type": "code",
   "execution_count": 79,
   "id": "38b01f7e-beb8-41b4-b388-13ae99262e91",
   "metadata": {},
   "outputs": [
    {
     "data": {
      "text/plain": [
       "array([[12, 13, 14, 15],\n",
       "       [17, 18, 19, 20],\n",
       "       [22, 23, 24, 25]])"
      ]
     },
     "execution_count": 79,
     "metadata": {},
     "output_type": "execute_result"
    }
   ],
   "source": [
    "a10[2:,1:]"
   ]
  },
  {
   "cell_type": "code",
   "execution_count": 83,
   "id": "480ed92e-86a9-4cc1-8a11-627d01ae22cd",
   "metadata": {},
   "outputs": [
    {
     "data": {
      "text/plain": [
       "20"
      ]
     },
     "execution_count": 83,
     "metadata": {},
     "output_type": "execute_result"
    }
   ],
   "source": [
    "a10[3,4]"
   ]
  },
  {
   "cell_type": "code",
   "execution_count": 87,
   "id": "606627ae-bf4c-4bf5-8435-60ac7b2271ad",
   "metadata": {},
   "outputs": [
    {
     "data": {
      "text/plain": [
       "array([[ 2],\n",
       "       [ 7],\n",
       "       [12]])"
      ]
     },
     "execution_count": 87,
     "metadata": {},
     "output_type": "execute_result"
    }
   ],
   "source": [
    "a10[0:3,1].reshape(3,1)"
   ]
  },
  {
   "cell_type": "code",
   "execution_count": 89,
   "id": "29d37857-ed85-4309-a6d6-8d0d8b744e01",
   "metadata": {},
   "outputs": [
    {
     "data": {
      "text/plain": [
       "array([21, 22, 23, 24, 25])"
      ]
     },
     "execution_count": 89,
     "metadata": {},
     "output_type": "execute_result"
    }
   ],
   "source": [
    "a10[4,:]"
   ]
  },
  {
   "cell_type": "code",
   "execution_count": 91,
   "id": "18b2346b-8561-4d6e-922d-2a9ce2d9220c",
   "metadata": {},
   "outputs": [
    {
     "data": {
      "text/plain": [
       "325"
      ]
     },
     "execution_count": 91,
     "metadata": {},
     "output_type": "execute_result"
    }
   ],
   "source": [
    "np.sum(a10)"
   ]
  },
  {
   "cell_type": "code",
   "execution_count": 93,
   "id": "058f92d6-9368-4584-bcd9-9b57ea7105b8",
   "metadata": {},
   "outputs": [
    {
     "data": {
      "text/plain": [
       "array([55, 60, 65, 70, 75])"
      ]
     },
     "execution_count": 93,
     "metadata": {},
     "output_type": "execute_result"
    }
   ],
   "source": [
    "np.sum(a10,axis =0)"
   ]
  },
  {
   "cell_type": "code",
   "execution_count": 95,
   "id": "7ccc3bbe-9976-47a5-9d88-751fd4390cab",
   "metadata": {},
   "outputs": [
    {
     "data": {
      "text/plain": [
       "array([1.41421356, 1.41421356, 1.41421356, 1.41421356, 1.41421356])"
      ]
     },
     "execution_count": 95,
     "metadata": {},
     "output_type": "execute_result"
    }
   ],
   "source": [
    "np.std(a10,axis=1)"
   ]
  },
  {
   "cell_type": "code",
   "execution_count": 97,
   "id": "01d3a273-03fb-4ec9-9188-e79fecc9ff8b",
   "metadata": {},
   "outputs": [
    {
     "data": {
      "text/plain": [
       "array([2., 2., 2., 2., 2.])"
      ]
     },
     "execution_count": 97,
     "metadata": {},
     "output_type": "execute_result"
    }
   ],
   "source": [
    "np.var(a10,axis=1)"
   ]
  },
  {
   "cell_type": "code",
   "execution_count": 99,
   "id": "39f6fb0d-164d-40b9-80ca-4ac859ca1dfc",
   "metadata": {},
   "outputs": [
    {
     "data": {
      "text/plain": [
       "array([ 1,  6, 11, 16, 21])"
      ]
     },
     "execution_count": 99,
     "metadata": {},
     "output_type": "execute_result"
    }
   ],
   "source": [
    "np.min(a10,axis=1)"
   ]
  },
  {
   "cell_type": "code",
   "execution_count": 101,
   "id": "80dec4db-b1e3-4678-bebc-ea4d9845b482",
   "metadata": {},
   "outputs": [
    {
     "data": {
      "text/plain": [
       "array([ 5, 10, 15, 20, 25])"
      ]
     },
     "execution_count": 101,
     "metadata": {},
     "output_type": "execute_result"
    }
   ],
   "source": [
    "np.max(a10,axis=1)"
   ]
  },
  {
   "cell_type": "code",
   "execution_count": null,
   "id": "5be86ae0-da90-4d6a-91a9-a921bb4be844",
   "metadata": {},
   "outputs": [],
   "source": []
  },
  {
   "cell_type": "markdown",
   "id": "68164df5-6f93-41c4-8505-a337b87cf681",
   "metadata": {},
   "source": [
    "NUMPY EXERCISE 2\n"
   ]
  },
  {
   "cell_type": "code",
   "execution_count": 3,
   "id": "40a4f2e3-db63-4794-a032-8c0fedde0415",
   "metadata": {},
   "outputs": [],
   "source": [
    "import numpy as np"
   ]
  },
  {
   "cell_type": "code",
   "execution_count": 5,
   "id": "0b21a80e-e579-4b4d-b156-e7e09ad96ab6",
   "metadata": {},
   "outputs": [],
   "source": [
    "a1=np.array([1,2,3])"
   ]
  },
  {
   "cell_type": "code",
   "execution_count": 7,
   "id": "a127b33e-f3c0-4465-a043-8434d8e9e5f5",
   "metadata": {},
   "outputs": [
    {
     "data": {
      "text/plain": [
       "array([1, 2, 3])"
      ]
     },
     "execution_count": 7,
     "metadata": {},
     "output_type": "execute_result"
    }
   ],
   "source": [
    "a1"
   ]
  },
  {
   "cell_type": "code",
   "execution_count": 11,
   "id": "db421a43-5b42-48e0-8bc3-845be501af9e",
   "metadata": {},
   "outputs": [],
   "source": [
    "a2=np.array([[1,2,4],[4,5,6]])"
   ]
  },
  {
   "cell_type": "code",
   "execution_count": 15,
   "id": "353b2ac0-693b-49f2-a6d7-d56422b63617",
   "metadata": {},
   "outputs": [
    {
     "data": {
      "text/plain": [
       "array([[1, 2, 4],\n",
       "       [4, 5, 6]])"
      ]
     },
     "execution_count": 15,
     "metadata": {},
     "output_type": "execute_result"
    }
   ],
   "source": [
    "a2"
   ]
  },
  {
   "cell_type": "code",
   "execution_count": 35,
   "id": "c44d509d-a9bd-4439-819d-23197e1b7f85",
   "metadata": {},
   "outputs": [],
   "source": [
    "a3 = np.array([[[1, 5, 2, 1],\n",
    "               [2, 3, 3, 5]],\n",
    "              \n",
    "              [[2, 2, 3, 1],       \n",
    "               [0, 1, 9, 1]],\n",
    "              \n",
    "              [[3, 1, 4, 2],\n",
    "               [8, 3, 4, 0]]])            "
   ]
  },
  {
   "cell_type": "code",
   "execution_count": null,
   "id": "0d0eb9ab-038b-4726-ab58-3429bb026e10",
   "metadata": {},
   "outputs": [],
   "source": []
  },
  {
   "cell_type": "code",
   "execution_count": 37,
   "id": "8968e9c9-a426-4b1d-93f0-4fd499c86c02",
   "metadata": {},
   "outputs": [
    {
     "data": {
      "text/plain": [
       "array([[[1, 5, 2, 1],\n",
       "        [2, 3, 3, 5]],\n",
       "\n",
       "       [[2, 2, 3, 1],\n",
       "        [0, 1, 9, 1]],\n",
       "\n",
       "       [[3, 1, 4, 2],\n",
       "        [8, 3, 4, 0]]])"
      ]
     },
     "execution_count": 37,
     "metadata": {},
     "output_type": "execute_result"
    }
   ],
   "source": [
    "a3"
   ]
  },
  {
   "cell_type": "code",
   "execution_count": null,
   "id": "723ffe17-bb9a-4136-9ae6-dd662c66bc9d",
   "metadata": {},
   "outputs": [],
   "source": []
  },
  {
   "cell_type": "code",
   "execution_count": null,
   "id": "d2431110-f065-4989-892e-1621c14a5f15",
   "metadata": {},
   "outputs": [],
   "source": []
  },
  {
   "cell_type": "code",
   "execution_count": 27,
   "id": "d0812b4f-8841-4b9b-93d1-c70345cff750",
   "metadata": {},
   "outputs": [
    {
     "data": {
      "text/plain": [
       "dtype('int32')"
      ]
     },
     "execution_count": 27,
     "metadata": {},
     "output_type": "execute_result"
    }
   ],
   "source": [
    "a1.dtype"
   ]
  },
  {
   "cell_type": "code",
   "execution_count": 29,
   "id": "4432e642-683d-4f5b-b5b2-af116e2f5e4f",
   "metadata": {},
   "outputs": [
    {
     "data": {
      "text/plain": [
       "dtype('int32')"
      ]
     },
     "execution_count": 29,
     "metadata": {},
     "output_type": "execute_result"
    }
   ],
   "source": [
    "a2.dtype"
   ]
  },
  {
   "cell_type": "code",
   "execution_count": 39,
   "id": "db1e7091-d0a4-432e-86d4-bdf3ddc83942",
   "metadata": {},
   "outputs": [
    {
     "data": {
      "text/plain": [
       "dtype('int32')"
      ]
     },
     "execution_count": 39,
     "metadata": {},
     "output_type": "execute_result"
    }
   ],
   "source": [
    "a3.dtype"
   ]
  },
  {
   "cell_type": "code",
   "execution_count": 41,
   "id": "64880a31-f3bb-4e16-b0fa-54bc38efc01b",
   "metadata": {},
   "outputs": [
    {
     "data": {
      "text/plain": [
       "(3,)"
      ]
     },
     "execution_count": 41,
     "metadata": {},
     "output_type": "execute_result"
    }
   ],
   "source": [
    "a1.shape"
   ]
  },
  {
   "cell_type": "code",
   "execution_count": 43,
   "id": "3f2f02ae-bced-4b03-9ec8-75060075569b",
   "metadata": {},
   "outputs": [
    {
     "data": {
      "text/plain": [
       "(2, 3)"
      ]
     },
     "execution_count": 43,
     "metadata": {},
     "output_type": "execute_result"
    }
   ],
   "source": [
    "a2.shape"
   ]
  },
  {
   "cell_type": "code",
   "execution_count": 47,
   "id": "1da10969-82b3-4d09-b618-0ac55b632eaf",
   "metadata": {},
   "outputs": [
    {
     "data": {
      "text/plain": [
       "(3, 2, 4)"
      ]
     },
     "execution_count": 47,
     "metadata": {},
     "output_type": "execute_result"
    }
   ],
   "source": [
    "a3.shape"
   ]
  },
  {
   "cell_type": "code",
   "execution_count": 49,
   "id": "d98165d6-2516-47fe-9cad-255373e9ddb2",
   "metadata": {},
   "outputs": [
    {
     "data": {
      "text/plain": [
       "1"
      ]
     },
     "execution_count": 49,
     "metadata": {},
     "output_type": "execute_result"
    }
   ],
   "source": [
    "a1.ndim"
   ]
  },
  {
   "cell_type": "code",
   "execution_count": 51,
   "id": "61915a51-d208-416f-8de2-652d49f9cc04",
   "metadata": {},
   "outputs": [
    {
     "data": {
      "text/plain": [
       "2"
      ]
     },
     "execution_count": 51,
     "metadata": {},
     "output_type": "execute_result"
    }
   ],
   "source": [
    "a2.ndim"
   ]
  },
  {
   "cell_type": "code",
   "execution_count": 53,
   "id": "4eb97343-e432-4f90-91ac-e5c8650c6c7b",
   "metadata": {},
   "outputs": [
    {
     "data": {
      "text/plain": [
       "3"
      ]
     },
     "execution_count": 53,
     "metadata": {},
     "output_type": "execute_result"
    }
   ],
   "source": [
    "a3.ndim"
   ]
  },
  {
   "cell_type": "code",
   "execution_count": 55,
   "id": "c1d679c3-687a-4580-b5d8-78b3368311e0",
   "metadata": {},
   "outputs": [],
   "source": [
    "a4=np.zeros(12)"
   ]
  },
  {
   "cell_type": "code",
   "execution_count": 57,
   "id": "537fe9f7-8ae7-408c-9df0-b0b05d140b64",
   "metadata": {},
   "outputs": [
    {
     "data": {
      "text/plain": [
       "array([0., 0., 0., 0., 0., 0., 0., 0., 0., 0., 0., 0.])"
      ]
     },
     "execution_count": 57,
     "metadata": {},
     "output_type": "execute_result"
    }
   ],
   "source": [
    "a4"
   ]
  },
  {
   "cell_type": "code",
   "execution_count": 61,
   "id": "78974a39-d3a2-430f-b53b-b11e576c5d17",
   "metadata": {},
   "outputs": [],
   "source": [
    "a5=np.ones(4).reshape(2,2)"
   ]
  },
  {
   "cell_type": "code",
   "execution_count": 63,
   "id": "8c398f90-5ab3-4d53-bb41-38f214b0f0c8",
   "metadata": {},
   "outputs": [
    {
     "data": {
      "text/plain": [
       "array([[1., 1.],\n",
       "       [1., 1.]])"
      ]
     },
     "execution_count": 63,
     "metadata": {},
     "output_type": "execute_result"
    }
   ],
   "source": [
    "a5"
   ]
  },
  {
   "cell_type": "code",
   "execution_count": 71,
   "id": "85943e5e-b1fb-43fe-bd35-32939bc46e95",
   "metadata": {},
   "outputs": [],
   "source": [
    "a6=np.random.randint(0,101,20)\n"
   ]
  },
  {
   "cell_type": "code",
   "execution_count": 73,
   "id": "103bd245-873e-486a-b5dc-66c142a990c6",
   "metadata": {},
   "outputs": [
    {
     "data": {
      "text/plain": [
       "array([ 38,  58, 100,  70,  22,  62,  65,  18,  39,  24,  62,  50,  46,\n",
       "        21,  69,   2,   5,  71,  76,  68])"
      ]
     },
     "execution_count": 73,
     "metadata": {},
     "output_type": "execute_result"
    }
   ],
   "source": [
    "a6"
   ]
  },
  {
   "cell_type": "code",
   "execution_count": 75,
   "id": "6ff1519d-ee73-4d98-a31b-90b6c062fd3d",
   "metadata": {},
   "outputs": [
    {
     "data": {
      "text/plain": [
       "array([  2,   5,  18,  21,  22,  24,  38,  39,  46,  50,  58,  62,  62,\n",
       "        65,  68,  69,  70,  71,  76, 100])"
      ]
     },
     "execution_count": 75,
     "metadata": {},
     "output_type": "execute_result"
    }
   ],
   "source": [
    "np.sort(a6)"
   ]
  },
  {
   "cell_type": "code",
   "execution_count": 85,
   "id": "f4c72a3a-166d-4c13-964c-1b29a16a46d2",
   "metadata": {},
   "outputs": [
    {
     "data": {
      "text/plain": [
       "array([  2,   5,  18,  21,  22,  24,  38,  39,  46,  50,  58,  62,  62,\n",
       "        65,  68,  69,  70,  71,  76, 100])"
      ]
     },
     "execution_count": 85,
     "metadata": {},
     "output_type": "execute_result"
    }
   ],
   "source": [
    "np.sort(a6)"
   ]
  },
  {
   "cell_type": "code",
   "execution_count": 89,
   "id": "4c62a664-c13c-4469-9745-e3b91bf12f90",
   "metadata": {},
   "outputs": [
    {
     "data": {
      "text/plain": [
       "array([100,  76,  71,  70,  69,  68,  65,  62,  62,  58,  50,  46,  39,\n",
       "        38,  24,  22,  21,  18,   5,   2])"
      ]
     },
     "execution_count": 89,
     "metadata": {},
     "output_type": "execute_result"
    }
   ],
   "source": [
    " np.sort(a6)[::-1]"
   ]
  },
  {
   "cell_type": "code",
   "execution_count": 93,
   "id": "b0d468a0-1c92-4f4a-ba33-6fc330d2ea0e",
   "metadata": {},
   "outputs": [],
   "source": [
    "a7=np.arange(0,25).reshape(5,5)"
   ]
  },
  {
   "cell_type": "code",
   "execution_count": 95,
   "id": "fec263a2-c0ee-4bdb-90bb-d15599984ade",
   "metadata": {},
   "outputs": [
    {
     "data": {
      "text/plain": [
       "array([[ 0,  1,  2,  3,  4],\n",
       "       [ 5,  6,  7,  8,  9],\n",
       "       [10, 11, 12, 13, 14],\n",
       "       [15, 16, 17, 18, 19],\n",
       "       [20, 21, 22, 23, 24]])"
      ]
     },
     "execution_count": 95,
     "metadata": {},
     "output_type": "execute_result"
    }
   ],
   "source": [
    "a7"
   ]
  },
  {
   "cell_type": "code",
   "execution_count": 111,
   "id": "404d9b05-ca76-4420-8cd5-2229b5bbf242",
   "metadata": {},
   "outputs": [],
   "source": [
    "da=a7[2:,1:].copy"
   ]
  },
  {
   "cell_type": "code",
   "execution_count": 113,
   "id": "b516ff11-4e9b-4fa5-a468-9a8d45cc837f",
   "metadata": {},
   "outputs": [
    {
     "data": {
      "text/plain": [
       "<function ndarray.copy>"
      ]
     },
     "execution_count": 113,
     "metadata": {},
     "output_type": "execute_result"
    }
   ],
   "source": [
    "da"
   ]
  },
  {
   "cell_type": "code",
   "execution_count": 137,
   "id": "3b3d2400-9b0e-496b-bd0e-b1422da757d3",
   "metadata": {},
   "outputs": [],
   "source": [
    "a8=np.array([[1,2,3],[3,4,5],[5,6,7]])"
   ]
  },
  {
   "cell_type": "code",
   "execution_count": null,
   "id": "2b357c9c-ae42-4679-ba55-aced57221b54",
   "metadata": {},
   "outputs": [],
   "source": []
  },
  {
   "cell_type": "code",
   "execution_count": null,
   "id": "6130b0ce-5ee6-4fd4-9410-f9ad0ad677c3",
   "metadata": {},
   "outputs": [],
   "source": []
  },
  {
   "cell_type": "code",
   "execution_count": 139,
   "id": "336a3d2b-2b2a-44f4-bb24-f199ec92cc5b",
   "metadata": {},
   "outputs": [
    {
     "data": {
      "text/plain": [
       "array([[1, 2, 3],\n",
       "       [3, 4, 5],\n",
       "       [5, 6, 7]])"
      ]
     },
     "execution_count": 139,
     "metadata": {},
     "output_type": "execute_result"
    }
   ],
   "source": [
    "a8"
   ]
  },
  {
   "cell_type": "code",
   "execution_count": null,
   "id": "ea59b830-f655-4639-b559-745083a01849",
   "metadata": {},
   "outputs": [],
   "source": []
  },
  {
   "cell_type": "code",
   "execution_count": 147,
   "id": "16f81e54-a76e-4017-94f9-f2176b8c81a6",
   "metadata": {},
   "outputs": [],
   "source": [
    "a9=np.array([[5,6,7]])"
   ]
  },
  {
   "cell_type": "code",
   "execution_count": 125,
   "id": "b00d2ef0-3d91-49bf-ac22-823bf299e4c9",
   "metadata": {},
   "outputs": [
    {
     "data": {
      "text/plain": [
       "array([5, 6, 7])"
      ]
     },
     "execution_count": 125,
     "metadata": {},
     "output_type": "execute_result"
    }
   ],
   "source": [
    "a9"
   ]
  },
  {
   "cell_type": "code",
   "execution_count": 153,
   "id": "8092993e-594f-44f4-8c6d-87ed244358b3",
   "metadata": {},
   "outputs": [],
   "source": [
    "a10=np.concatenate([a8,a9])"
   ]
  },
  {
   "cell_type": "code",
   "execution_count": 159,
   "id": "2c435113-9010-47da-b687-0a413b9a3654",
   "metadata": {},
   "outputs": [
    {
     "data": {
      "text/plain": [
       "array([[1, 2, 3],\n",
       "       [3, 4, 5],\n",
       "       [5, 6, 7],\n",
       "       [5, 6, 7]])"
      ]
     },
     "execution_count": 159,
     "metadata": {},
     "output_type": "execute_result"
    }
   ],
   "source": [
    "a10"
   ]
  },
  {
   "cell_type": "code",
   "execution_count": null,
   "id": "e973780b-54f0-486a-97d7-04c5cf5f70cd",
   "metadata": {},
   "outputs": [],
   "source": []
  },
  {
   "cell_type": "code",
   "execution_count": 161,
   "id": "68e6c295-eef7-4144-9714-03699fa18407",
   "metadata": {},
   "outputs": [
    {
     "data": {
      "text/plain": [
       "[array([[1],\n",
       "        [3],\n",
       "        [5],\n",
       "        [5]]),\n",
       " array([[2],\n",
       "        [4],\n",
       "        [6],\n",
       "        [6]]),\n",
       " array([[3],\n",
       "        [5],\n",
       "        [7],\n",
       "        [7]])]"
      ]
     },
     "execution_count": 161,
     "metadata": {},
     "output_type": "execute_result"
    }
   ],
   "source": [
    "np.hsplit(a10,3)"
   ]
  },
  {
   "cell_type": "code",
   "execution_count": 163,
   "id": "5519e666-b667-4291-a3e3-dc18d3ef1209",
   "metadata": {},
   "outputs": [
    {
     "data": {
      "text/plain": [
       "[array([[1, 2, 3],\n",
       "        [3, 4, 5]]),\n",
       " array([[5, 6, 7],\n",
       "        [5, 6, 7]])]"
      ]
     },
     "execution_count": 163,
     "metadata": {},
     "output_type": "execute_result"
    }
   ],
   "source": [
    "np.vsplit(a10,2)"
   ]
  },
  {
   "cell_type": "code",
   "execution_count": 165,
   "id": "acd84f26-63c7-4d24-a438-ff96ac6e638a",
   "metadata": {},
   "outputs": [],
   "source": [
    "a11=np.identity(4)\n"
   ]
  },
  {
   "cell_type": "code",
   "execution_count": 167,
   "id": "a5ccef40-c479-4110-aeb1-dd546da09614",
   "metadata": {},
   "outputs": [
    {
     "data": {
      "text/plain": [
       "array([[1., 0., 0., 0.],\n",
       "       [0., 1., 0., 0.],\n",
       "       [0., 0., 1., 0.],\n",
       "       [0., 0., 0., 1.]])"
      ]
     },
     "execution_count": 167,
     "metadata": {},
     "output_type": "execute_result"
    }
   ],
   "source": [
    "a11"
   ]
  },
  {
   "cell_type": "code",
   "execution_count": 171,
   "id": "c73303ba-4c77-4669-a827-a9aef8aa958c",
   "metadata": {},
   "outputs": [
    {
     "data": {
      "text/plain": [
       "array([[5., 4., 4., 4.],\n",
       "       [4., 5., 4., 4.],\n",
       "       [4., 4., 5., 4.],\n",
       "       [4., 4., 4., 5.]])"
      ]
     },
     "execution_count": 171,
     "metadata": {},
     "output_type": "execute_result"
    }
   ],
   "source": [
    "a11+ 4"
   ]
  },
  {
   "cell_type": "code",
   "execution_count": 189,
   "id": "eb8e97ec-4a6e-41ec-9a1b-5f044d9c1f52",
   "metadata": {},
   "outputs": [],
   "source": [
    "a12=np.random.normal(0,1,10)"
   ]
  },
  {
   "cell_type": "code",
   "execution_count": 191,
   "id": "d8962252-8e16-4559-9578-7f511f9012bf",
   "metadata": {},
   "outputs": [
    {
     "data": {
      "text/plain": [
       "array([-0.42376382,  2.0164238 , -0.1502156 , -0.51877437, -0.21083127,\n",
       "       -1.24338929, -0.08029116, -0.99438161,  0.70104322,  0.18111102])"
      ]
     },
     "execution_count": 191,
     "metadata": {},
     "output_type": "execute_result"
    }
   ],
   "source": [
    "a12"
   ]
  },
  {
   "cell_type": "code",
   "execution_count": 193,
   "id": "b2136f30-97a4-4a3b-8041-b673161814fa",
   "metadata": {},
   "outputs": [],
   "source": [
    "a13=np.random.randint(0,25,(5,5))"
   ]
  },
  {
   "cell_type": "code",
   "execution_count": 195,
   "id": "ea462ce1-be28-4152-bb68-404b804ff786",
   "metadata": {},
   "outputs": [
    {
     "data": {
      "text/plain": [
       "array([[ 7,  1, 15, 14, 10],\n",
       "       [12, 20,  7,  5,  1],\n",
       "       [ 8, 16, 21,  6,  3],\n",
       "       [ 9, 17, 18, 20,  2],\n",
       "       [ 4, 10,  8,  5,  4]])"
      ]
     },
     "execution_count": 195,
     "metadata": {},
     "output_type": "execute_result"
    }
   ],
   "source": [
    "a13"
   ]
  },
  {
   "cell_type": "code",
   "execution_count": 197,
   "id": "f9e33a26-f62f-4d9f-81d3-25b668200d7b",
   "metadata": {},
   "outputs": [
    {
     "data": {
      "text/plain": [
       "array([4, 1, 7, 5, 1])"
      ]
     },
     "execution_count": 197,
     "metadata": {},
     "output_type": "execute_result"
    }
   ],
   "source": [
    "np.min(a13,axis=0)"
   ]
  },
  {
   "cell_type": "code",
   "execution_count": 199,
   "id": "cf9a0f3d-6822-429f-b56f-c13036a0084f",
   "metadata": {},
   "outputs": [
    {
     "data": {
      "text/plain": [
       "array([12, 20, 21, 20, 10])"
      ]
     },
     "execution_count": 199,
     "metadata": {},
     "output_type": "execute_result"
    }
   ],
   "source": [
    "np.max(a13,axis=0)"
   ]
  },
  {
   "cell_type": "code",
   "execution_count": 201,
   "id": "9f328af2-2477-40a8-8de3-74d0d4ab4bf1",
   "metadata": {},
   "outputs": [
    {
     "data": {
      "text/plain": [
       "array([ 6.8 , 45.36, 30.16, 36.4 , 10.  ])"
      ]
     },
     "execution_count": 201,
     "metadata": {},
     "output_type": "execute_result"
    }
   ],
   "source": [
    "np.var(a13,axis=0)"
   ]
  },
  {
   "cell_type": "code",
   "execution_count": 203,
   "id": "48bf9c14-2f61-402b-9da7-3148a256b50b",
   "metadata": {},
   "outputs": [
    {
     "data": {
      "text/plain": [
       "array([2.60768096, 6.7349833 , 5.49181209, 6.03324125, 3.16227766])"
      ]
     },
     "execution_count": 203,
     "metadata": {},
     "output_type": "execute_result"
    }
   ],
   "source": [
    "np.std(a13,axis=0)"
   ]
  },
  {
   "cell_type": "code",
   "execution_count": null,
   "id": "8309a441-7241-4ba5-917e-9ca741d985f1",
   "metadata": {},
   "outputs": [],
   "source": []
  },
  {
   "cell_type": "code",
   "execution_count": null,
   "id": "07f4f9b9-45a8-4932-89ca-159dd4686eb1",
   "metadata": {},
   "outputs": [],
   "source": []
  },
  {
   "cell_type": "code",
   "execution_count": 205,
   "id": "ab8bc07a-74b8-4528-900b-60f5628412af",
   "metadata": {},
   "outputs": [],
   "source": [
    "a15=np.arange(100,151)"
   ]
  },
  {
   "cell_type": "code",
   "execution_count": 207,
   "id": "eb8e2430-ce16-454b-a605-b78dabc1eb67",
   "metadata": {},
   "outputs": [
    {
     "data": {
      "text/plain": [
       "array([100, 101, 102, 103, 104, 105, 106, 107, 108, 109, 110, 111, 112,\n",
       "       113, 114, 115, 116, 117, 118, 119, 120, 121, 122, 123, 124, 125,\n",
       "       126, 127, 128, 129, 130, 131, 132, 133, 134, 135, 136, 137, 138,\n",
       "       139, 140, 141, 142, 143, 144, 145, 146, 147, 148, 149, 150])"
      ]
     },
     "execution_count": 207,
     "metadata": {},
     "output_type": "execute_result"
    }
   ],
   "source": [
    "a15"
   ]
  },
  {
   "cell_type": "code",
   "execution_count": 217,
   "id": "0ad3ea28-376e-4385-8302-cfb963d36980",
   "metadata": {},
   "outputs": [
    {
     "ename": "IndexError",
     "evalue": "too many indices for array: array is 1-dimensional, but 2 were indexed",
     "output_type": "error",
     "traceback": [
      "\u001b[1;31m---------------------------------------------------------------------------\u001b[0m",
      "\u001b[1;31mIndexError\u001b[0m                                Traceback (most recent call last)",
      "Cell \u001b[1;32mIn[217], line 1\u001b[0m\n\u001b[1;32m----> 1\u001b[0m a15[::,\u001b[38;5;241m-\u001b[39m\u001b[38;5;241m1\u001b[39m]\n",
      "\u001b[1;31mIndexError\u001b[0m: too many indices for array: array is 1-dimensional, but 2 were indexed"
     ]
    }
   ],
   "source": [
    "a15[::,-1]"
   ]
  },
  {
   "cell_type": "code",
   "execution_count": 219,
   "id": "94a2f364-b307-42e7-a63d-d716dc1b3d48",
   "metadata": {},
   "outputs": [],
   "source": [
    "a17=np.random.randint(0,24,(5,5))"
   ]
  },
  {
   "cell_type": "code",
   "execution_count": 221,
   "id": "2183afce-f915-4e29-90fc-30a684f11591",
   "metadata": {},
   "outputs": [
    {
     "data": {
      "text/plain": [
       "array([[20, 13,  4, 11, 16],\n",
       "       [ 4, 11, 21,  4,  2],\n",
       "       [23, 13,  9, 14,  8],\n",
       "       [ 9, 19, 20, 13, 21],\n",
       "       [ 7, 19, 13,  3, 23]])"
      ]
     },
     "execution_count": 221,
     "metadata": {},
     "output_type": "execute_result"
    }
   ],
   "source": [
    "a17"
   ]
  },
  {
   "cell_type": "code",
   "execution_count": 211,
   "id": "4ee4743f-b9c4-4054-8e90-88748a4c965b",
   "metadata": {},
   "outputs": [],
   "source": [
    "a16=np.array([1,0,2,0,0,4,0,8])"
   ]
  },
  {
   "cell_type": "code",
   "execution_count": 278,
   "id": "216b4f45-5138-4f8f-a45e-ae83b33f0b66",
   "metadata": {},
   "outputs": [],
   "source": [
    "a18=np.ones(100).reshape(10,10)"
   ]
  },
  {
   "cell_type": "code",
   "execution_count": 280,
   "id": "099c0ee5-768d-485a-9bb4-4d279fcf9140",
   "metadata": {},
   "outputs": [
    {
     "data": {
      "text/plain": [
       "array([[1., 1., 1., 1., 1., 1., 1., 1., 1., 1.],\n",
       "       [1., 1., 1., 1., 1., 1., 1., 1., 1., 1.],\n",
       "       [1., 1., 1., 1., 1., 1., 1., 1., 1., 1.],\n",
       "       [1., 1., 1., 1., 1., 1., 1., 1., 1., 1.],\n",
       "       [1., 1., 1., 1., 1., 1., 1., 1., 1., 1.],\n",
       "       [1., 1., 1., 1., 1., 1., 1., 1., 1., 1.],\n",
       "       [1., 1., 1., 1., 1., 1., 1., 1., 1., 1.],\n",
       "       [1., 1., 1., 1., 1., 1., 1., 1., 1., 1.],\n",
       "       [1., 1., 1., 1., 1., 1., 1., 1., 1., 1.],\n",
       "       [1., 1., 1., 1., 1., 1., 1., 1., 1., 1.]])"
      ]
     },
     "execution_count": 280,
     "metadata": {},
     "output_type": "execute_result"
    }
   ],
   "source": [
    "a18"
   ]
  },
  {
   "cell_type": "code",
   "execution_count": 282,
   "id": "2d678b63-1bc2-46eb-adf5-450487477c18",
   "metadata": {},
   "outputs": [],
   "source": [
    "a18[1:9,1:9]=0"
   ]
  },
  {
   "cell_type": "code",
   "execution_count": 284,
   "id": "7a14bdaa-95f9-4941-80f0-36880e2d5262",
   "metadata": {},
   "outputs": [
    {
     "data": {
      "text/plain": [
       "array([[1., 1., 1., 1., 1., 1., 1., 1., 1., 1.],\n",
       "       [1., 0., 0., 0., 0., 0., 0., 0., 0., 1.],\n",
       "       [1., 0., 0., 0., 0., 0., 0., 0., 0., 1.],\n",
       "       [1., 0., 0., 0., 0., 0., 0., 0., 0., 1.],\n",
       "       [1., 0., 0., 0., 0., 0., 0., 0., 0., 1.],\n",
       "       [1., 0., 0., 0., 0., 0., 0., 0., 0., 1.],\n",
       "       [1., 0., 0., 0., 0., 0., 0., 0., 0., 1.],\n",
       "       [1., 0., 0., 0., 0., 0., 0., 0., 0., 1.],\n",
       "       [1., 0., 0., 0., 0., 0., 0., 0., 0., 1.],\n",
       "       [1., 1., 1., 1., 1., 1., 1., 1., 1., 1.]])"
      ]
     },
     "execution_count": 284,
     "metadata": {},
     "output_type": "execute_result"
    }
   ],
   "source": [
    "a18"
   ]
  },
  {
   "cell_type": "code",
   "execution_count": 330,
   "id": "557f3fea-1e13-4f9e-8490-fdff28db7675",
   "metadata": {},
   "outputs": [],
   "source": [
    "a19=np.zeros((8,8))"
   ]
  },
  {
   "cell_type": "code",
   "execution_count": null,
   "id": "90b61cb9-10a3-4ec2-b515-1ac47258a038",
   "metadata": {},
   "outputs": [],
   "source": []
  },
  {
   "cell_type": "code",
   "execution_count": 332,
   "id": "6a94a739-9c6c-4c74-ab13-d9adcbf4ce1a",
   "metadata": {},
   "outputs": [
    {
     "data": {
      "text/plain": [
       "array([[0., 0., 0., 0., 0., 0., 0., 0.],\n",
       "       [0., 0., 0., 0., 0., 0., 0., 0.],\n",
       "       [0., 0., 0., 0., 0., 0., 0., 0.],\n",
       "       [0., 0., 0., 0., 0., 0., 0., 0.],\n",
       "       [0., 0., 0., 0., 0., 0., 0., 0.],\n",
       "       [0., 0., 0., 0., 0., 0., 0., 0.],\n",
       "       [0., 0., 0., 0., 0., 0., 0., 0.],\n",
       "       [0., 0., 0., 0., 0., 0., 0., 0.]])"
      ]
     },
     "execution_count": 332,
     "metadata": {},
     "output_type": "execute_result"
    }
   ],
   "source": [
    "a19"
   ]
  },
  {
   "cell_type": "code",
   "execution_count": 334,
   "id": "bd21dda2-d26c-45bf-bc26-ed1f19085ad3",
   "metadata": {},
   "outputs": [],
   "source": [
    "a19[1::2,::2]=1"
   ]
  },
  {
   "cell_type": "code",
   "execution_count": 336,
   "id": "430db12a-4483-45e6-b4e4-b2c0388d7186",
   "metadata": {},
   "outputs": [],
   "source": [
    "a19[::2,1::2]=1"
   ]
  },
  {
   "cell_type": "code",
   "execution_count": 338,
   "id": "32ece321-8286-4444-ba82-03beb94d34ce",
   "metadata": {},
   "outputs": [
    {
     "data": {
      "text/plain": [
       "array([[0., 1., 0., 1., 0., 1., 0., 1.],\n",
       "       [1., 0., 1., 0., 1., 0., 1., 0.],\n",
       "       [0., 1., 0., 1., 0., 1., 0., 1.],\n",
       "       [1., 0., 1., 0., 1., 0., 1., 0.],\n",
       "       [0., 1., 0., 1., 0., 1., 0., 1.],\n",
       "       [1., 0., 1., 0., 1., 0., 1., 0.],\n",
       "       [0., 1., 0., 1., 0., 1., 0., 1.],\n",
       "       [1., 0., 1., 0., 1., 0., 1., 0.]])"
      ]
     },
     "execution_count": 338,
     "metadata": {},
     "output_type": "execute_result"
    }
   ],
   "source": [
    "a19"
   ]
  },
  {
   "cell_type": "code",
   "execution_count": 328,
   "id": "ca1b41f5-e5cb-4dfb-b973-929de1d328aa",
   "metadata": {},
   "outputs": [
    {
     "data": {
      "text/plain": [
       "array([[1., 0., 0., 0., 1., 0., 1., 0.],\n",
       "       [0., 0., 0., 0., 0., 0., 0., 0.],\n",
       "       [0., 0., 0., 0., 0., 0., 0., 0.],\n",
       "       [0., 0., 0., 0., 0., 0., 0., 0.],\n",
       "       [0., 0., 0., 0., 0., 0., 0., 0.],\n",
       "       [0., 0., 0., 0., 0., 0., 0., 0.],\n",
       "       [0., 0., 0., 0., 0., 0., 0., 0.],\n",
       "       [0., 0., 0., 0., 0., 0., 0., 0.]])"
      ]
     },
     "execution_count": 328,
     "metadata": {},
     "output_type": "execute_result"
    }
   ],
   "source": [
    "a19"
   ]
  },
  {
   "cell_type": "code",
   "execution_count": 306,
   "id": "4b4f6148-9a1f-47da-a266-3b357269b3f7",
   "metadata": {},
   "outputs": [],
   "source": [
    "a20=np.random.randint(0,8,(3,3))"
   ]
  },
  {
   "cell_type": "markdown",
   "id": "145348b8-88ba-4726-88b9-6774b359ada3",
   "metadata": {},
   "source": [
    "# "
   ]
  },
  {
   "cell_type": "code",
   "execution_count": 308,
   "id": "9b4461d2-8a94-4b9e-a13a-94d66fd78efb",
   "metadata": {},
   "outputs": [
    {
     "data": {
      "text/plain": [
       "array([[6, 5, 1],\n",
       "       [0, 0, 1],\n",
       "       [6, 0, 0]])"
      ]
     },
     "execution_count": 308,
     "metadata": {},
     "output_type": "execute_result"
    }
   ],
   "source": [
    "a20"
   ]
  },
  {
   "cell_type": "code",
   "execution_count": 310,
   "id": "e81a382d-7c87-40bc-b4ac-e45b0f6d2ef1",
   "metadata": {},
   "outputs": [],
   "source": [
    "a21=np.random.randint(0,8,(3,3))"
   ]
  },
  {
   "cell_type": "code",
   "execution_count": 312,
   "id": "0f0c6676-5917-4704-92d8-12df028ed826",
   "metadata": {},
   "outputs": [
    {
     "data": {
      "text/plain": [
       "array([[0, 0, 4],\n",
       "       [5, 4, 4],\n",
       "       [6, 4, 2]])"
      ]
     },
     "execution_count": 312,
     "metadata": {},
     "output_type": "execute_result"
    }
   ],
   "source": [
    "a21"
   ]
  },
  {
   "cell_type": "code",
   "execution_count": 314,
   "id": "53457fd3-47e0-437c-8f85-e5e3fbf68f0f",
   "metadata": {},
   "outputs": [
    {
     "data": {
      "text/plain": [
       "array([[ 6,  5,  5],\n",
       "       [ 5,  4,  5],\n",
       "       [12,  4,  2]])"
      ]
     },
     "execution_count": 314,
     "metadata": {},
     "output_type": "execute_result"
    }
   ],
   "source": [
    "a21+a20"
   ]
  },
  {
   "cell_type": "code",
   "execution_count": 316,
   "id": "ac90a469-3c79-4581-962b-c5d4008701a8",
   "metadata": {},
   "outputs": [
    {
     "data": {
      "text/plain": [
       "array([[ 0,  0,  4],\n",
       "       [ 0,  0,  4],\n",
       "       [36,  0,  0]])"
      ]
     },
     "execution_count": 316,
     "metadata": {},
     "output_type": "execute_result"
    }
   ],
   "source": [
    "a20*a21"
   ]
  },
  {
   "cell_type": "code",
   "execution_count": 318,
   "id": "75a5f3db-eab4-4bed-9661-2651409ee449",
   "metadata": {},
   "outputs": [
    {
     "data": {
      "text/plain": [
       "array([[ 6,  5, -3],\n",
       "       [-5, -4, -3],\n",
       "       [ 0, -4, -2]])"
      ]
     },
     "execution_count": 318,
     "metadata": {},
     "output_type": "execute_result"
    }
   ],
   "source": [
    "a20-a21"
   ]
  },
  {
   "cell_type": "code",
   "execution_count": null,
   "id": "9bdaa967-552b-4ba6-aa66-1a72c5317103",
   "metadata": {},
   "outputs": [],
   "source": []
  },
  {
   "cell_type": "code",
   "execution_count": null,
   "id": "a112f7f4-244d-402d-802e-527abe52e402",
   "metadata": {},
   "outputs": [],
   "source": []
  },
  {
   "cell_type": "code",
   "execution_count": null,
   "id": "460504ae-fbff-4403-b237-3de2813cf920",
   "metadata": {},
   "outputs": [],
   "source": []
  },
  {
   "cell_type": "code",
   "execution_count": null,
   "id": "0b37b3a5-aae2-441a-9545-064e12eb729d",
   "metadata": {},
   "outputs": [],
   "source": []
  },
  {
   "cell_type": "code",
   "execution_count": null,
   "id": "efaa40ea-18d5-4501-96c7-dacc1805ed65",
   "metadata": {},
   "outputs": [],
   "source": []
  },
  {
   "cell_type": "code",
   "execution_count": null,
   "id": "0d6e54d0-f010-49ef-9543-55036ff2f8df",
   "metadata": {},
   "outputs": [],
   "source": []
  },
  {
   "cell_type": "code",
   "execution_count": null,
   "id": "002ead52-9762-4a27-a13f-e518b4f73b23",
   "metadata": {},
   "outputs": [],
   "source": []
  },
  {
   "cell_type": "code",
   "execution_count": null,
   "id": "b8a4b1ba-4f69-4104-89e5-033fc2be9f52",
   "metadata": {},
   "outputs": [],
   "source": []
  },
  {
   "cell_type": "code",
   "execution_count": null,
   "id": "4861e1c4-76d5-4abc-881c-cbd7d3dae05d",
   "metadata": {},
   "outputs": [],
   "source": []
  },
  {
   "cell_type": "code",
   "execution_count": null,
   "id": "eecf8b95-906e-4307-a96e-ba47ac1db53a",
   "metadata": {},
   "outputs": [],
   "source": []
  },
  {
   "cell_type": "code",
   "execution_count": null,
   "id": "0ce32d2b-4bf4-411c-958e-a6f579c70cc7",
   "metadata": {},
   "outputs": [],
   "source": []
  },
  {
   "cell_type": "code",
   "execution_count": null,
   "id": "02180d12-b5a5-4359-81c6-533a5d4764a8",
   "metadata": {},
   "outputs": [],
   "source": []
  },
  {
   "cell_type": "code",
   "execution_count": null,
   "id": "73bc2110-aecc-459f-9a14-bf40bc8abbb0",
   "metadata": {},
   "outputs": [],
   "source": []
  },
  {
   "cell_type": "code",
   "execution_count": null,
   "id": "d2b093e3-047f-4ec5-921f-9b67df0ec46b",
   "metadata": {},
   "outputs": [],
   "source": []
  },
  {
   "cell_type": "code",
   "execution_count": null,
   "id": "bcf4998e-074b-4025-a951-5e0cb0d96fd3",
   "metadata": {},
   "outputs": [],
   "source": []
  },
  {
   "cell_type": "code",
   "execution_count": null,
   "id": "fcaa8813-bc42-4aa1-8d55-4742aa51990e",
   "metadata": {},
   "outputs": [],
   "source": []
  },
  {
   "cell_type": "code",
   "execution_count": null,
   "id": "b61f7ba4-f06d-48bd-a14e-43a4e94ac465",
   "metadata": {},
   "outputs": [],
   "source": []
  },
  {
   "cell_type": "code",
   "execution_count": null,
   "id": "690025b5-943a-4919-8e3f-b5211f0f4270",
   "metadata": {},
   "outputs": [],
   "source": []
  },
  {
   "cell_type": "code",
   "execution_count": null,
   "id": "d5090b45-4a97-4d2c-a573-56d714c54f6b",
   "metadata": {},
   "outputs": [],
   "source": []
  },
  {
   "cell_type": "code",
   "execution_count": null,
   "id": "706bdbcb-8f5b-48af-b1e2-230d3fc2586e",
   "metadata": {},
   "outputs": [],
   "source": []
  },
  {
   "cell_type": "code",
   "execution_count": null,
   "id": "4ebd91b0-1799-4ef0-b4b6-7763097d50ed",
   "metadata": {},
   "outputs": [],
   "source": []
  },
  {
   "cell_type": "code",
   "execution_count": null,
   "id": "4d661bb6-e9c5-4579-b700-266321185387",
   "metadata": {},
   "outputs": [],
   "source": []
  },
  {
   "cell_type": "code",
   "execution_count": null,
   "id": "f9f63a07-5dae-4fb8-b7aa-4f0b66d30e1d",
   "metadata": {},
   "outputs": [],
   "source": []
  },
  {
   "cell_type": "code",
   "execution_count": null,
   "id": "cc277463-6cd4-49e1-ad5e-94548950a756",
   "metadata": {},
   "outputs": [],
   "source": []
  },
  {
   "cell_type": "code",
   "execution_count": 109,
   "id": "1f4ef40b-dccb-43bc-8026-a547f7fa7f9c",
   "metadata": {},
   "outputs": [
    {
     "name": "stdout",
     "output_type": "stream",
     "text": [
      "<built-in method copy of numpy.ndarray object at 0x000001C99EA0F4B0>\n"
     ]
    }
   ],
   "source": []
  },
  {
   "cell_type": "code",
   "execution_count": null,
   "id": "1ccc8d06-f560-43e3-b812-f9ac0462da39",
   "metadata": {},
   "outputs": [],
   "source": []
  },
  {
   "cell_type": "code",
   "execution_count": null,
   "id": "213ec79a-039d-48b3-98bb-b684737ba73e",
   "metadata": {},
   "outputs": [],
   "source": []
  },
  {
   "cell_type": "code",
   "execution_count": null,
   "id": "018f7591-2fa1-4698-9794-ed0d808fc7d0",
   "metadata": {},
   "outputs": [],
   "source": []
  },
  {
   "cell_type": "code",
   "execution_count": 107,
   "id": "0e9a69d3-32e5-456b-bc61-9059b5639bf9",
   "metadata": {},
   "outputs": [
    {
     "data": {
      "text/plain": [
       "<function ndarray.copy>"
      ]
     },
     "execution_count": 107,
     "metadata": {},
     "output_type": "execute_result"
    }
   ],
   "source": []
  },
  {
   "cell_type": "code",
   "execution_count": null,
   "id": "0ffa2f57-217b-4c68-bfbd-e279bb106424",
   "metadata": {},
   "outputs": [],
   "source": []
  },
  {
   "cell_type": "code",
   "execution_count": null,
   "id": "35e9afa2-acae-40fa-9a64-2d25f897d127",
   "metadata": {},
   "outputs": [],
   "source": []
  },
  {
   "cell_type": "code",
   "execution_count": null,
   "id": "5f3b7c36-aadf-4187-9b5d-6fcae9f214fd",
   "metadata": {},
   "outputs": [],
   "source": []
  },
  {
   "cell_type": "code",
   "execution_count": null,
   "id": "7f4d45f4-6a75-4470-ac7d-02b4c195b933",
   "metadata": {},
   "outputs": [],
   "source": []
  },
  {
   "cell_type": "code",
   "execution_count": null,
   "id": "af946476-801d-44db-bb5f-78fbf6139312",
   "metadata": {},
   "outputs": [],
   "source": []
  },
  {
   "cell_type": "code",
   "execution_count": null,
   "id": "43b9b828-4e58-4b8f-b35d-2113efd9bdb1",
   "metadata": {},
   "outputs": [],
   "source": []
  },
  {
   "cell_type": "code",
   "execution_count": null,
   "id": "3b51ef2e-7850-44f5-882b-46093aeb66c3",
   "metadata": {},
   "outputs": [],
   "source": []
  },
  {
   "cell_type": "code",
   "execution_count": null,
   "id": "3de34fcd-b4d7-4e6f-b367-72a02031cbe2",
   "metadata": {},
   "outputs": [],
   "source": []
  },
  {
   "cell_type": "code",
   "execution_count": null,
   "id": "b4cc5c31-ea9e-4d9e-a150-d545c3e6a864",
   "metadata": {},
   "outputs": [],
   "source": []
  },
  {
   "cell_type": "code",
   "execution_count": null,
   "id": "06ee3c1b-3f3a-4bd4-a08d-fcf54e830ecd",
   "metadata": {},
   "outputs": [],
   "source": []
  },
  {
   "cell_type": "code",
   "execution_count": null,
   "id": "7275a612-66eb-4c71-97be-68619dd4990c",
   "metadata": {},
   "outputs": [],
   "source": []
  },
  {
   "cell_type": "code",
   "execution_count": null,
   "id": "f26fd12b-3c3c-4310-ab9f-f70ccdac831a",
   "metadata": {},
   "outputs": [],
   "source": []
  },
  {
   "cell_type": "code",
   "execution_count": null,
   "id": "fc82a4d8-a51b-4335-809a-3ef5af802b77",
   "metadata": {},
   "outputs": [],
   "source": []
  },
  {
   "cell_type": "code",
   "execution_count": null,
   "id": "a16508ab-2a58-4a15-b7d7-f82c5e6e005f",
   "metadata": {},
   "outputs": [],
   "source": []
  },
  {
   "cell_type": "code",
   "execution_count": null,
   "id": "c4741db6-9b1a-4117-8b5a-65129ad54e6c",
   "metadata": {},
   "outputs": [],
   "source": []
  },
  {
   "cell_type": "code",
   "execution_count": null,
   "id": "685f4357-3e32-4a9b-8ed7-126deabb0d8b",
   "metadata": {},
   "outputs": [],
   "source": []
  },
  {
   "cell_type": "code",
   "execution_count": null,
   "id": "e00035b0-b5c3-48e5-84ed-1bbff9e5caa2",
   "metadata": {},
   "outputs": [],
   "source": []
  },
  {
   "cell_type": "code",
   "execution_count": null,
   "id": "bb56cc68-121a-420b-8cd3-cb8d53fbf6b2",
   "metadata": {},
   "outputs": [],
   "source": []
  },
  {
   "cell_type": "code",
   "execution_count": null,
   "id": "08b2587d-1c02-4bf0-a995-7671f0e3c2a9",
   "metadata": {},
   "outputs": [],
   "source": []
  },
  {
   "cell_type": "code",
   "execution_count": null,
   "id": "d184a7bf-d831-4d47-b474-ea8a331effb6",
   "metadata": {},
   "outputs": [],
   "source": []
  },
  {
   "cell_type": "code",
   "execution_count": null,
   "id": "dae905f3-26b6-4dec-a206-32b978ff8c4d",
   "metadata": {},
   "outputs": [],
   "source": []
  },
  {
   "cell_type": "code",
   "execution_count": null,
   "id": "d151eeaa-8113-4f05-ab86-de7831008462",
   "metadata": {},
   "outputs": [],
   "source": []
  },
  {
   "cell_type": "code",
   "execution_count": null,
   "id": "506258be-6791-48ff-b341-2151a6b5ae48",
   "metadata": {},
   "outputs": [],
   "source": []
  },
  {
   "cell_type": "code",
   "execution_count": null,
   "id": "cfe57905-4a7f-4dcc-99d4-dff67271345e",
   "metadata": {},
   "outputs": [],
   "source": []
  },
  {
   "cell_type": "code",
   "execution_count": null,
   "id": "57e7ddc9-60fd-4460-81d7-5eb101b497d5",
   "metadata": {},
   "outputs": [],
   "source": []
  },
  {
   "cell_type": "code",
   "execution_count": null,
   "id": "30789a59-90e4-4729-851b-cb115b3d9ff7",
   "metadata": {},
   "outputs": [],
   "source": []
  },
  {
   "cell_type": "code",
   "execution_count": null,
   "id": "304f319f-3a93-4de7-af60-e67ec8985120",
   "metadata": {},
   "outputs": [],
   "source": []
  },
  {
   "cell_type": "code",
   "execution_count": null,
   "id": "652d5f38-675a-4730-ae7a-808c77ef0c73",
   "metadata": {},
   "outputs": [],
   "source": []
  },
  {
   "cell_type": "code",
   "execution_count": null,
   "id": "53691989-b381-4973-a17d-c8b36c237ce8",
   "metadata": {},
   "outputs": [],
   "source": []
  },
  {
   "cell_type": "code",
   "execution_count": null,
   "id": "d615679a-2470-463f-8c55-71137b16a2bc",
   "metadata": {},
   "outputs": [],
   "source": []
  },
  {
   "cell_type": "code",
   "execution_count": null,
   "id": "abf603f2-9c1c-4bb1-b196-6c69198062ef",
   "metadata": {},
   "outputs": [],
   "source": []
  },
  {
   "cell_type": "code",
   "execution_count": null,
   "id": "02b2cea8-590f-4f98-b005-23677a84c05a",
   "metadata": {},
   "outputs": [],
   "source": []
  }
 ],
 "metadata": {
  "kernelspec": {
   "display_name": "Python 3 (ipykernel)",
   "language": "python",
   "name": "python3"
  },
  "language_info": {
   "codemirror_mode": {
    "name": "ipython",
    "version": 3
   },
   "file_extension": ".py",
   "mimetype": "text/x-python",
   "name": "python",
   "nbconvert_exporter": "python",
   "pygments_lexer": "ipython3",
   "version": "3.12.4"
  }
 },
 "nbformat": 4,
 "nbformat_minor": 5
}
